{
 "cells": [
  {
   "cell_type": "markdown",
   "metadata": {},
   "source": [
    "**PageRank Algorithm Implementation**\n",
    "\n",
    "Input -\n",
    "<img src=\"img/pagerank3.png\">\n",
    "\n"
   ]
  },
  {
   "cell_type": "code",
   "execution_count": 29,
   "metadata": {},
   "outputs": [
    {
     "name": "stdout",
     "output_type": "stream",
     "text": [
      "*********Without matrix*********\n",
      "Final ranking -\n",
      "[0.036475603979156807, 0.051977735670298446, 0.04050213169114165, 0.245996326606627, 0.14102404278697328, 0.18948365699228012]\n"
     ]
    }
   ],
   "source": [
    "N = 6\n",
    "d = 0.85\n",
    "iteration = 50\n",
    "\n",
    "M = [[0, 0, 1, 0, 0, 0],\n",
    "     [1, 0, 1, 0, 0, 0],\n",
    "     [1, 0, 0, 0, 0, 0],\n",
    "     [0, 0, 0, 0, 1, 1],\n",
    "     [0, 0, 1, 1, 0, 0],\n",
    "     [0, 0, 0, 1, 1, 0]]\n",
    "L = [2, 6, 3, 2, 2, 1]\n",
    "PR = [0, 0, 0, 0, 0, 0]\n",
    "\n",
    "for i in range(iteration):\n",
    "    if i==0:\n",
    "        PR = [1/N for j in PR]\n",
    "    else:        \n",
    "        for j, val_j in enumerate(PR):\n",
    "            summation = 0\n",
    "            for k, val_k in enumerate(M[j]):\n",
    "                if (val_k == 1):\n",
    "                    summation = summation + (PR[k]/L[k])\n",
    "            PR[j] = (1- d)/N + d*summation\n",
    "    \n",
    "print(\"*********Without matrix*********\")\n",
    "print(\"Final ranking -\")\n",
    "print(PR)\n",
    "        \n"
   ]
  },
  {
   "cell_type": "code",
   "execution_count": 46,
   "metadata": {},
   "outputs": [
    {
     "name": "stdout",
     "output_type": "stream",
     "text": [
      "*********With matrix*********\n",
      "Final ranking -\n",
      "[0.0364756  0.05197774 0.04050213 0.24599633 0.14102404 0.18948366]\n"
     ]
    }
   ],
   "source": [
    "import numpy as np\n",
    "\n",
    "N = 6\n",
    "d = 0.85\n",
    "iteration = 50\n",
    "\n",
    "M = np.array([[0, 0, 1, 0, 0, 0],\n",
    "     [1, 0, 1, 0, 0, 0],\n",
    "     [1, 0, 0, 0, 0, 0],\n",
    "     [0, 0, 0, 0, 1, 1],\n",
    "     [0, 0, 1, 1, 0, 0],\n",
    "     [0, 0, 0, 1, 1, 0]])\n",
    "L = np.array([2, 6, 3, 2, 2, 1])\n",
    "I = np.ones(N)\n",
    "PR = np.zeros(N)\n",
    "\n",
    "for i in range(iteration):\n",
    "    if i==0:\n",
    "        PR = np.ones(N)/N\n",
    "        M = M/L\n",
    "    else:        \n",
    "        PR = d*(M@PR) + ((1-d)/N)*I        \n",
    "    \n",
    "print(\"*********With matrix*********\")\n",
    "print(\"Final ranking -\")\n",
    "print(PR)       \n"
   ]
  },
  {
   "cell_type": "code",
   "execution_count": null,
   "metadata": {},
   "outputs": [],
   "source": []
  }
 ],
 "metadata": {
  "kernelspec": {
   "display_name": "Python 3",
   "language": "python",
   "name": "python3"
  },
  "language_info": {
   "codemirror_mode": {
    "name": "ipython",
    "version": 3
   },
   "file_extension": ".py",
   "mimetype": "text/x-python",
   "name": "python",
   "nbconvert_exporter": "python",
   "pygments_lexer": "ipython3",
   "version": "3.7.6"
  }
 },
 "nbformat": 4,
 "nbformat_minor": 4
}
